{
 "cells": [
  {
   "cell_type": "code",
   "execution_count": 2,
   "id": "4238ce6e-07d0-4ec1-b2e6-f902648e0bbb",
   "metadata": {},
   "outputs": [],
   "source": [
    "from bs4 import BeautifulSoup\n",
    "import requests\n",
    "import pandas as pd\n"
   ]
  },
  {
   "cell_type": "code",
   "execution_count": 8,
   "id": "7664eca4-1b94-4963-99f4-483273d81bf0",
   "metadata": {
    "scrolled": true
   },
   "outputs": [],
   "source": [
    "url = 'https://coinmarketcap.com'\n",
    "response = requests.get(url).text\n",
    "soup = BeautifulSoup(response,'html.parser')\n"
   ]
  },
  {
   "cell_type": "code",
   "execution_count": 9,
   "id": "d2063c44",
   "metadata": {},
   "outputs": [],
   "source": [
    "###We will see the table wanted within the table class 'sc-996d6db8-3 cOXNvh cmc-table'\n",
    "table_wanted = soup.find('table', class_ = 'sc-996d6db8-3 cOXNvh cmc-table')\n",
    "\n"
   ]
  },
  {
   "cell_type": "code",
   "execution_count": 7,
   "id": "aa2b35df",
   "metadata": {},
   "outputs": [
    {
     "name": "stdout",
     "output_type": "stream",
     "text": [
      "['BTC-USD', 'ETH-USD', 'USDT-USD', 'BNB-USD', 'USDC-USD', 'XRP-USD', 'ADA-USD', 'DOGE-USD', 'LTC-USD', 'SOL-USD', 'TRX-USD', 'DOT-USD', 'MATIC-USD', 'BCH-USD', 'TON-USD', 'WBTC-USD', 'DAI-USD', 'AVAX-USD', 'SHIB-USD', 'BUSD-USD', 'LEO-USD', 'LINK-USD', 'ATOM-USD', 'UNI-USD', 'TUSD-USD', 'XMR-USD', 'XLM-USD', 'ETC-USD', 'OKB-USD', 'LDO-USD', 'ICP-USD', 'FIL-USD', 'HBAR-USD', 'APT-USD', 'VET-USD', 'ARB-USD', 'CRO-USD', 'NEAR-USD', 'QNT-USD', 'GRT-USD', 'AAVE-USD', 'USDP-USD', 'STX-USD', 'BSV-USD', 'ALGO-USD', 'EGLD-USD', 'FTM-USD', 'OP-USD', 'EOS-USD', 'SAND-USD', 'MKR-USD', 'BIT-USD', 'APE-USD', 'XTZ-USD', 'IMX-USD', 'MANA-USD', 'THETA-USD', 'RNDR-USD', 'AXS-USD', 'FLOW-USD', 'USDD-USD', 'RPL-USD', 'INJ-USD', 'XEC-USD', 'NEO-USD', 'CRV-USD', 'KCS-USD', 'SNX-USD', 'PEPE-USD', 'CFX-USD', 'KAVA-USD', 'GUSD-USD', 'CHZ-USD', 'GALA-USD', 'ZEC-USD', 'KLAY-USD', 'MIOTA-USD', 'LUNC-USD', 'GMX-USD', 'COMP-USD', 'PAXG-USD', 'XAUT-USD', 'MINA-USD', 'BTT-USD', 'XDC-USD', 'CSPR-USD', 'HT-USD', 'GT-USD', 'WOO-USD', 'DASH-USD', 'FXS-USD', 'SUI-USD', 'TWT-USD', 'RUNE-USD', 'NEXO-USD', 'ZIL-USD', 'CAKE-USD', 'DYDX-USD', 'LRC-USD', 'ENJ-USD']\n"
     ]
    }
   ],
   "source": [
    "# with this step below, I want to get all crypto symbol as a list.\n",
    "liste_crypto = df['Crypto-symbol'].values.tolist()\n",
    "print(liste_crypto)\n"
   ]
  },
  {
   "cell_type": "code",
   "execution_count": null,
   "id": "cce59e03",
   "metadata": {},
   "outputs": [],
   "source": []
  }
 ],
 "metadata": {
  "kernelspec": {
   "display_name": "Python 3 (ipykernel)",
   "language": "python",
   "name": "python3"
  },
  "language_info": {
   "codemirror_mode": {
    "name": "ipython",
    "version": 3
   },
   "file_extension": ".py",
   "mimetype": "text/x-python",
   "name": "python",
   "nbconvert_exporter": "python",
   "pygments_lexer": "ipython3",
   "version": "3.10.5"
  }
 },
 "nbformat": 4,
 "nbformat_minor": 5
}
