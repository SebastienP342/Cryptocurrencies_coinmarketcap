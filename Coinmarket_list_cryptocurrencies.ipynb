{
 "cells": [
  {
   "cell_type": "code",
   "execution_count": 2,
   "id": "4238ce6e-07d0-4ec1-b2e6-f902648e0bbb",
   "metadata": {},
   "outputs": [],
   "source": [
    "from bs4 import BeautifulSoup\n",
    "import requests\n",
    "import pandas as pd\n"
   ]
  },
  {
   "cell_type": "code",
   "execution_count": 8,
   "id": "7664eca4-1b94-4963-99f4-483273d81bf0",
   "metadata": {
    "scrolled": true
   },
   "outputs": [],
   "source": [
    "url = 'https://coinmarketcap.com'\n",
    "response = requests.get(url).text\n",
    "soup = BeautifulSoup(response,'html.parser')\n",
    "table_wanted = soup.find('table', class_ = 'sc-996d6db8-3 cOXNvh cmc-table')"
   ]
  },
  {
   "cell_type": "code",
   "execution_count": 10,
   "id": "65f8fd17",
   "metadata": {},
   "outputs": [
    {
     "name": "stdout",
     "output_type": "stream",
     "text": [
      "               Name Crypto-symbol       Price\n",
      "0        BitcoinBTC       BTC-USD  $30,544.68\n",
      "1       EthereumETH       ETH-USD   $1,912.38\n",
      "2        TetherUSDT      USDT-USD       $1.00\n",
      "3            BNBBNB       BNB-USD     $244.60\n",
      "4      USD CoinUSDC      USDC-USD       $1.00\n",
      "..              ...           ...         ...\n",
      "95       ZilliqaZIL       ZIL-USD       $0.02\n",
      "96  PancakeSwapCAKE      CAKE-USD       $1.58\n",
      "97         dYdXDYDX      DYDX-USD       $2.10\n",
      "98      LoopringLRC       LRC-USD       $0.24\n",
      "99    Enjin CoinENJ       ENJ-USD       $0.31\n",
      "\n",
      "[100 rows x 3 columns]\n"
     ]
    }
   ],
   "source": [
    "df = pd.DataFrame(columns = ['Name','Crypto-symbol','Price'])\n",
    "\n",
    "for row in table_wanted.tbody.find_all('tr'):\n",
    "    columns = row.find_all('td')\n",
    "\n",
    "\n",
    "    if(columns != []):\n",
    "        name = columns[2].text.strip()\n",
    "        price = columns[3].text.strip()\n",
    "\n",
    "        acronym = row.find('p', {'color': 'text3'})\n",
    "        if acronym is None :\n",
    "            acronym = row.find('span', {'class': 'crypto-symbol'})\n",
    "\n",
    "#this step is up to you, I use this naming because I will need this appellation to use it with yfinance in my upcoming project\n",
    "        symbol = acronym.text\n",
    "        symbol = symbol +'-USD'\n",
    "\n",
    "        dict = {'Name': name,'Crypto-symbol': symbol, 'Price': price}\n",
    "\n",
    "        df.loc[len(df.index)] = dict\n",
    "\n",
    "print(df)"
   ]
  },
  {
   "cell_type": "code",
   "execution_count": 7,
   "id": "154427de",
   "metadata": {},
   "outputs": [
    {
     "name": "stdout",
     "output_type": "stream",
     "text": [
      "['BTC-USD', 'ETH-USD', 'USDT-USD', 'BNB-USD', 'USDC-USD', 'XRP-USD', 'ADA-USD', 'DOGE-USD', 'LTC-USD', 'SOL-USD', 'TRX-USD', 'DOT-USD', 'MATIC-USD', 'BCH-USD', 'TON-USD', 'WBTC-USD', 'DAI-USD', 'AVAX-USD', 'SHIB-USD', 'BUSD-USD', 'LEO-USD', 'LINK-USD', 'ATOM-USD', 'UNI-USD', 'TUSD-USD', 'XMR-USD', 'XLM-USD', 'ETC-USD', 'OKB-USD', 'LDO-USD', 'ICP-USD', 'FIL-USD', 'HBAR-USD', 'APT-USD', 'VET-USD', 'ARB-USD', 'CRO-USD', 'NEAR-USD', 'QNT-USD', 'GRT-USD', 'AAVE-USD', 'USDP-USD', 'STX-USD', 'BSV-USD', 'ALGO-USD', 'EGLD-USD', 'FTM-USD', 'OP-USD', 'EOS-USD', 'SAND-USD', 'MKR-USD', 'BIT-USD', 'APE-USD', 'XTZ-USD', 'IMX-USD', 'MANA-USD', 'THETA-USD', 'RNDR-USD', 'AXS-USD', 'FLOW-USD', 'USDD-USD', 'RPL-USD', 'INJ-USD', 'XEC-USD', 'NEO-USD', 'CRV-USD', 'KCS-USD', 'SNX-USD', 'PEPE-USD', 'CFX-USD', 'KAVA-USD', 'GUSD-USD', 'CHZ-USD', 'GALA-USD', 'ZEC-USD', 'KLAY-USD', 'MIOTA-USD', 'LUNC-USD', 'GMX-USD', 'COMP-USD', 'PAXG-USD', 'XAUT-USD', 'MINA-USD', 'BTT-USD', 'XDC-USD', 'CSPR-USD', 'HT-USD', 'GT-USD', 'WOO-USD', 'DASH-USD', 'FXS-USD', 'SUI-USD', 'TWT-USD', 'RUNE-USD', 'NEXO-USD', 'ZIL-USD', 'CAKE-USD', 'DYDX-USD', 'LRC-USD', 'ENJ-USD']\n"
     ]
    }
   ],
   "source": [
    "# with this step below, I want to get all crypto symbol as a list.\n",
    "liste_crypto = df['Crypto-symbol'].values.tolist()\n",
    "print(liste_crypto)\n"
   ]
  },
  {
   "cell_type": "code",
   "execution_count": null,
   "id": "d7c44caf",
   "metadata": {},
   "outputs": [],
   "source": []
  }
 ],
 "metadata": {
  "kernelspec": {
   "display_name": "Python 3 (ipykernel)",
   "language": "python",
   "name": "python3"
  },
  "language_info": {
   "codemirror_mode": {
    "name": "ipython",
    "version": 3
   },
   "file_extension": ".py",
   "mimetype": "text/x-python",
   "name": "python",
   "nbconvert_exporter": "python",
   "pygments_lexer": "ipython3",
   "version": "3.10.5"
  }
 },
 "nbformat": 4,
 "nbformat_minor": 5
}
